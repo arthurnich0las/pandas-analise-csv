{
  "nbformat": 4,
  "nbformat_minor": 0,
  "metadata": {
    "colab": {
      "provenance": []
    },
    "kernelspec": {
      "name": "python3",
      "display_name": "Python 3"
    },
    "language_info": {
      "name": "python"
    }
  },
  "cells": [
    {
      "cell_type": "code",
      "execution_count": null,
      "metadata": {
        "id": "7YlqIiLPAp0_"
      },
      "outputs": [],
      "source": [
        "!pip -q install plotly --upgrade\n",
        "!pip -q install yellowbrick\n",
        "import pandas as pd\n",
        "import numpy as np\n",
        "import seaborn as sns\n",
        "import matplotlib.pyplot as plt\n",
        "import plotly.express as px\n",
        "import openpyxl\n",
        "from openpyxl import Workbook\n",
        "from google.colab import data_table\n",
        "\n",
        "from google.colab import drive\n",
        "drive.mount('/content/drive')"
      ]
    },
    {
      "cell_type": "code",
      "source": [
        "bd = pd.read_csv('/content/drive/MyDrive/estatistica/UNIAO-DOS-PALMARES.csv', sep = ';', encoding = 'latin-1', header = 8)\n",
        "df = pd.DataFrame(bd)\n",
        "df"
      ],
      "metadata": {
        "id": "cRx1h68VBLpb"
      },
      "execution_count": null,
      "outputs": []
    },
    {
      "cell_type": "code",
      "source": [
        "df_AL = df.loc[(df['Unidade da Federação'] == 'Alagoas'), ~df.columns.str.contains('^Unnamed')]\n",
        "df_UP = df.loc[(df['Unidade da Federação'] == 'Alagoas') & (df['Município'] == 'UNIAO DOS PALMARES'), ~df.columns.str.contains('^Unnamed')]\n",
        "df_AL.to_excel('excelAL.xlsx', index = False) #SALVANDO EM EXCEL A TABELA APENAS ALAGOAS\n",
        "df_UP.to_excel('excelUP.xlsx', index = False) #SALVANDO EM EXCEL A TABELA UNIÃO DOS PALMARES"
      ],
      "metadata": {
        "id": "91NW4Kp3B_Ut"
      },
      "execution_count": null,
      "outputs": []
    },
    {
      "cell_type": "code",
      "source": [
        "#CONFERINDO QUE ESCOLAS TEM ATÉ 4a SERIE\n",
        "cont4serie = 0\n",
        "for item in df_AL['1ª a 4ª Série e Anos Iniciais']:\n",
        "  if item == 1:\n",
        "    cont4serie = cont4serie + 1\n",
        "\n",
        "cont4serieUP = 0\n",
        "for item in df_UP['1ª a 4ª Série e Anos Iniciais']:\n",
        "  if item == 1:\n",
        "    cont4serieUP = cont4serieUP + 1\n",
        "\n",
        "print('escolas até 4 serie em ALAGOAS:', cont4serie)\n",
        "print('escolas até 4 serie em UP:', cont4serieUP)"
      ],
      "metadata": {
        "colab": {
          "base_uri": "https://localhost:8080/"
        },
        "id": "RREuWNcmsMAl",
        "outputId": "b182cd84-18a5-4979-c5c4-7f63d30b2c89"
      },
      "execution_count": null,
      "outputs": [
        {
          "output_type": "stream",
          "name": "stdout",
          "text": [
            "escolas até 4 serie em ALAGOAS: 2603\n",
            "escolas até 4 serie em UP: 29\n"
          ]
        }
      ]
    },
    {
      "cell_type": "code",
      "source": [
        "#CONFERINDO QUE ESCOLAS TEM ATÉ ENSINO MÉDIO\n",
        "contEM = 0\n",
        "for item in df_AL['5ª a 8ª Série e Anos Finais']:\n",
        "  if item == 1:\n",
        "    contEM = contEM + 1\n",
        "\n",
        "\n",
        "contEMUP = 0\n",
        "for item in df_UP['5ª a 8ª Série e Anos Finais']:\n",
        "  if item == 1:\n",
        "    contEMUP = contEMUP + 1\n",
        "\n",
        "print('escolas até EM em ALAGOAS:', contEM)\n",
        "print('escolas até EM em UP:', contEMUP)"
      ],
      "metadata": {
        "colab": {
          "base_uri": "https://localhost:8080/"
        },
        "id": "IkoMwNkmsOaX",
        "outputId": "34156ef3-e4c7-4f56-fdbc-5708c24f7299"
      },
      "execution_count": null,
      "outputs": [
        {
          "output_type": "stream",
          "name": "stdout",
          "text": [
            "escolas até EM em ALAGOAS: 946\n",
            "escolas até EM em UP: 27\n"
          ]
        }
      ]
    },
    {
      "cell_type": "code",
      "source": [
        "#CONFERINDO QUE ESCOLAS TEM ABASTECIMENTO DE ÁGUA\n",
        "contEM = 0\n",
        "for item in df_AL['Abastecimento de Água']:\n",
        "  if item == 'Sim':\n",
        "    contEM = contEM + 1\n",
        "\n",
        "\n",
        "contEMUP = 0\n",
        "for item in df_UP['Abastecimento de Água']:\n",
        "  if item == 'Sim':\n",
        "    contEMUP = contEMUP + 1\n",
        "\n",
        "print('escolas com abastecimento de agua em ALAGOAS:', contEM)\n",
        "print('escolas com abastecimento de agua em UP:', contEMUP)"
      ],
      "metadata": {
        "colab": {
          "base_uri": "https://localhost:8080/"
        },
        "id": "scK7s1kUgiHJ",
        "outputId": "9fbfe36e-111f-4926-a1db-bed16c6a8ba3"
      },
      "execution_count": null,
      "outputs": [
        {
          "output_type": "stream",
          "name": "stdout",
          "text": [
            "escolas com abastecimento de agua em ALAGOAS: 2055\n",
            "escolas com abastecimento de agua em UP: 28\n"
          ]
        }
      ]
    },
    {
      "cell_type": "code",
      "source": [
        "#CONFERINDO QUE ESCOLAS TEM Acessibilidade adequada a alunos com deficiência ou mobilidade reduzida\n",
        "contEM = 0\n",
        "for item in df_AL['Acessibilidade adequada a alunos com deficiência ou mobilidade reduzida']:\n",
        "  if item == 'Sim':\n",
        "    contEM = contEM + 1\n",
        "\n",
        "\n",
        "contEMUP = 0\n",
        "for item in df_UP['Acessibilidade adequada a alunos com deficiência ou mobilidade reduzida']:\n",
        "  if item == 'Sim':\n",
        "    contEMUP = contEMUP + 1\n",
        "\n",
        "print('escolas com Acessibilidade adequada a alunos com deficiência ou mobilidade reduzida em ALAGOAS:', contEM)\n",
        "print('escolas com Acessibilidade adequada a alunos com deficiência ou mobilidade reduzida em UP:', contEMUP)"
      ],
      "metadata": {
        "colab": {
          "base_uri": "https://localhost:8080/"
        },
        "id": "yCgh0AfrpsoV",
        "outputId": "217b2d12-ddac-4149-d19c-a12e36099728"
      },
      "execution_count": null,
      "outputs": [
        {
          "output_type": "stream",
          "name": "stdout",
          "text": [
            "escolas com Acessibilidade adequada a alunos com deficiência ou mobilidade reduzida em ALAGOAS: 759\n",
            "escolas com Acessibilidade adequada a alunos com deficiência ou mobilidade reduzida em UP: 12\n"
          ]
        }
      ]
    },
    {
      "cell_type": "code",
      "source": [
        "#CONFERINDO QUE ESCOLAS TEM SALA DE DIRETORIA\n",
        "contEM = 0\n",
        "for item in df_AL['Sala de Diretoria']:\n",
        "  if item == 'Sim':\n",
        "    contEM = contEM + 1\n",
        "\n",
        "\n",
        "contEMUP = 0\n",
        "for item in df_UP['Sala de Diretoria']:\n",
        "  if item == 'Sim':\n",
        "    contEMUP = contEMUP + 1\n",
        "\n",
        "print('escolas com sala de diretoria em ALAGOAS:', contEM)\n",
        "print('escolas com sala de diretoria em UP:', contEMUP)"
      ],
      "metadata": {
        "colab": {
          "base_uri": "https://localhost:8080/"
        },
        "id": "ln9ZDlcMpuVy",
        "outputId": "638c3149-0306-4994-cf6a-aa09b23af25f"
      },
      "execution_count": null,
      "outputs": [
        {
          "output_type": "stream",
          "name": "stdout",
          "text": [
            "escolas com sala de diretoria em ALAGOAS: 2032\n",
            "escolas com sala de diretoria em UP: 24\n"
          ]
        }
      ]
    },
    {
      "cell_type": "code",
      "source": [
        "#CONFERINDO QUE ESCOLAS TEM ALIMENTAÇÃO ESCOLAR PARA OS ALUNOS\n",
        "contEM = 0\n",
        "for item in df_AL['Alimentação Escolar para os alunos']:\n",
        "  if item == 'Sim':\n",
        "    contEM = contEM + 1\n",
        "\n",
        "\n",
        "contEMUP = 0\n",
        "for item in df_UP['Alimentação Escolar para os alunos']:\n",
        "  if item == 'Sim':\n",
        "    contEMUP = contEMUP + 1\n",
        "\n",
        "print('escolas com alimentação escolar em ALAGOAS:', contEM)\n",
        "print('escolas com alimentação escolar em UP:', contEMUP)"
      ],
      "metadata": {
        "colab": {
          "base_uri": "https://localhost:8080/"
        },
        "id": "1LbwEWysrkfL",
        "outputId": "fefd07e9-57cf-42a6-a76a-71079ca201dd"
      },
      "execution_count": null,
      "outputs": [
        {
          "output_type": "stream",
          "name": "stdout",
          "text": [
            "escolas com alimentação escolar em ALAGOAS: 2859\n",
            "escolas com alimentação escolar em UP: 30\n"
          ]
        }
      ]
    },
    {
      "cell_type": "code",
      "source": [
        "#CONFERINDO QUE ESCOLAS TEM ABASTECIMENTO DE ENERGIA ELÉTRICA\n",
        "contEM = 0\n",
        "for item in df_AL['Abastecimento de Energia Elétrica']:\n",
        "  if item == 'Sim':\n",
        "    contEM = contEM + 1\n",
        "\n",
        "\n",
        "contEMUP = 0\n",
        "for item in df_UP['Abastecimento de Energia Elétrica']:\n",
        "  if item == 'Sim':\n",
        "    contEMUP = contEMUP + 1\n",
        "\n",
        "print('escolas com Abastecimento de Energia Elétrica em ALAGOAS:', contEM)\n",
        "print('escolas com Abastecimento de Energia Elétrica em UP:', contEMUP)"
      ],
      "metadata": {
        "colab": {
          "base_uri": "https://localhost:8080/"
        },
        "id": "fO89olrjuQIu",
        "outputId": "32c2b168-ffa9-4e30-b6c2-b91c4c7d7b01"
      },
      "execution_count": null,
      "outputs": [
        {
          "output_type": "stream",
          "name": "stdout",
          "text": [
            "escolas com Abastecimento de Energia Elétrica em ALAGOAS: 3300\n",
            "escolas com Abastecimento de Energia Elétrica em UP: 32\n"
          ]
        }
      ]
    },
    {
      "cell_type": "code",
      "source": [
        "#CONFERINDO QUE ESCOLAS TEM ALOJAMENTO DE ALUNO\n",
        "contEM = 0\n",
        "for item in df_AL['Alojamento de Aluno ']:\n",
        "  if item == 'Sim':\n",
        "    contEM = contEM + 1\n",
        "\n",
        "\n",
        "contEMUP = 0\n",
        "for item in df_UP['Alojamento de Aluno ']:\n",
        "  if item == 'Sim':\n",
        "    contEMUP = contEMUP + 1\n",
        "\n",
        "print('escolas com Alojamento de Aluno em ALAGOAS:', contEM)\n",
        "print('escolas com Alojamento de Aluno em UP:', contEMUP)"
      ],
      "metadata": {
        "colab": {
          "base_uri": "https://localhost:8080/"
        },
        "id": "F0CUfCBMug99",
        "outputId": "e66727cc-57b7-4bef-daaf-2f40d63ddf12"
      },
      "execution_count": null,
      "outputs": [
        {
          "output_type": "stream",
          "name": "stdout",
          "text": [
            "escolas com Alojamento de Aluno em ALAGOAS: 6\n",
            "escolas com Alojamento de Aluno em UP: 0\n"
          ]
        }
      ]
    },
    {
      "cell_type": "code",
      "source": [
        "#CONFERINDO QUE ESCOLAS TEM ALOJAMENTO DE PROFESSOR\n",
        "contEM = 0\n",
        "for item in df_AL['Alojamento de Professor']:\n",
        "  if item == 'Sim':\n",
        "    contEM = contEM + 1\n",
        "\n",
        "\n",
        "contEMUP = 0\n",
        "for item in df_UP['Alojamento de Professor']:\n",
        "  if item == 'Sim':\n",
        "    contEMUP = contEMUP + 1\n",
        "\n",
        "print('escolas com Alojamento de professor em ALAGOAS:', contEM)\n",
        "print('escolas com Alojamento de professor em UP:', contEMUP)"
      ],
      "metadata": {
        "colab": {
          "base_uri": "https://localhost:8080/"
        },
        "id": "Mj8dxyJewow4",
        "outputId": "c5fbc597-7776-432e-accf-f465477e6d2c"
      },
      "execution_count": null,
      "outputs": [
        {
          "output_type": "stream",
          "name": "stdout",
          "text": [
            "escolas com Alojamento de professor em ALAGOAS: 14\n",
            "escolas com Alojamento de professor em UP: 0\n"
          ]
        }
      ]
    },
    {
      "cell_type": "code",
      "source": [
        "#CONFERINDO QUE ESCOLAS TEM AUDITÓRIO\n",
        "contEM = 0\n",
        "for item in df_AL['Auditório']:\n",
        "  if item == 'Sim':\n",
        "    contEM = contEM + 1\n",
        "\n",
        "\n",
        "contEMUP = 0\n",
        "for item in df_UP['Auditório']:\n",
        "  if item == 'Sim':\n",
        "    contEMUP = contEMUP + 1\n",
        "\n",
        "print('escolas com auditório em ALAGOAS:', contEM)\n",
        "print('escolas com auditório em UP:', contEMUP)"
      ],
      "metadata": {
        "colab": {
          "base_uri": "https://localhost:8080/"
        },
        "id": "Z3Xjilj9yolB",
        "outputId": "9a56036c-8f12-48d7-d221-2795541fdc3a"
      },
      "execution_count": null,
      "outputs": [
        {
          "output_type": "stream",
          "name": "stdout",
          "text": [
            "escolas com auditório em ALAGOAS: 147\n",
            "escolas com auditório em UP: 2\n"
          ]
        }
      ]
    },
    {
      "cell_type": "code",
      "source": [
        "#CONFERINDO QUE ESCOLAS TEM BERCÁRIO\n",
        "contEM = 0\n",
        "for item in df_AL['Berçário']:\n",
        "  if item == 'Sim':\n",
        "    contEM = contEM + 1\n",
        "\n",
        "\n",
        "contEMUP = 0\n",
        "for item in df_UP['Berçário']:\n",
        "  if item == 'Sim':\n",
        "    contEMUP = contEMUP + 1\n",
        "\n",
        "print('escolas com berçário em ALAGOAS:', contEM)\n",
        "print('escolas com berçário em UP:', contEMUP)"
      ],
      "metadata": {
        "colab": {
          "base_uri": "https://localhost:8080/"
        },
        "id": "hBmGTiuNzO5w",
        "outputId": "5dc95bd0-6c1b-440e-b0a4-5bd9c46e2aa6"
      },
      "execution_count": null,
      "outputs": [
        {
          "output_type": "stream",
          "name": "stdout",
          "text": [
            "escolas com berçário em ALAGOAS: 88\n",
            "escolas com berçário em UP: 0\n"
          ]
        }
      ]
    },
    {
      "cell_type": "code",
      "source": [
        "#CONFERINDO QUE ESCOLAS TEM BIBLIOTECA\n",
        "contEM = 0\n",
        "for item in df_AL['Biblioteca ']:\n",
        "  if item == 'Sim':\n",
        "    contEM = contEM + 1\n",
        "\n",
        "\n",
        "contEMUP = 0\n",
        "for item in df_UP['Biblioteca ']:\n",
        "  if item == 'Sim':\n",
        "    contEMUP = contEMUP + 1\n",
        "\n",
        "print('escolas com biblioteca em ALAGOAS:', contEM)\n",
        "print('escolas com biblioteca em UP:', contEMUP)"
      ],
      "metadata": {
        "colab": {
          "base_uri": "https://localhost:8080/"
        },
        "id": "cmJ75vj1znlj",
        "outputId": "552cdf79-5fd7-4ba1-ea4e-5208fe196588"
      },
      "execution_count": null,
      "outputs": [
        {
          "output_type": "stream",
          "name": "stdout",
          "text": [
            "escolas com biblioteca em ALAGOAS: 857\n",
            "escolas com biblioteca em UP: 15\n"
          ]
        }
      ]
    },
    {
      "cell_type": "code",
      "source": [
        "#CONFERINDO QUE ESCOLAS TEM CRECHE\n",
        "contEM = 0\n",
        "for item in df_AL['CRECHE']:\n",
        "  if item == 1:\n",
        "    contEM = contEM + 1\n",
        "\n",
        "\n",
        "contEMUP = 0\n",
        "for item in df_UP['CRECHE']:\n",
        "  if item == 1:\n",
        "    contEMUP = contEMUP + 1\n",
        "\n",
        "print('escolas com creche em ALAGOAS:', contEM)\n",
        "print('escolas com creche em UP:', contEMUP)"
      ],
      "metadata": {
        "colab": {
          "base_uri": "https://localhost:8080/"
        },
        "id": "yrkheQEazoc-",
        "outputId": "e9ee379c-4b99-4524-b9f2-a83fd69af409"
      },
      "execution_count": null,
      "outputs": [
        {
          "output_type": "stream",
          "name": "stdout",
          "text": [
            "escolas com creche em ALAGOAS: 568\n",
            "escolas com creche em UP: 17\n"
          ]
        }
      ]
    },
    {
      "cell_type": "code",
      "source": [
        "#CONFERINDO QUE ESCOLAS TEM COMPUTADORES\n",
        "contEM = 0\n",
        "for item in df_AL['Computadores']:\n",
        "  if item == 'Sim':\n",
        "    contEM = contEM + 1\n",
        "\n",
        "\n",
        "contEMUP = 0\n",
        "for item in df_UP['Computadores']:\n",
        "  if item == 'Sim':\n",
        "    contEMUP = contEMUP + 1\n",
        "\n",
        "print('escolas com computadores em ALAGOAS:', contEM)\n",
        "print('escolas com computadores em UP:', contEMUP)"
      ],
      "metadata": {
        "colab": {
          "base_uri": "https://localhost:8080/"
        },
        "id": "lWH0bLgTIL9t",
        "outputId": "52389794-a157-4478-e786-35f2188b1856"
      },
      "execution_count": null,
      "outputs": [
        {
          "output_type": "stream",
          "name": "stdout",
          "text": [
            "escolas com computadores em ALAGOAS: 2123\n",
            "escolas com computadores em UP: 29\n"
          ]
        }
      ]
    },
    {
      "cell_type": "code",
      "source": [
        "#CONFERINDO QUE ESCOLAS TEM BANDA LARGA\n",
        "contEM = 0\n",
        "for item in df_AL['Banda Larga']:\n",
        "  if item == 'Possui':\n",
        "    contEM = contEM + 1\n",
        "\n",
        "\n",
        "contEMUP = 0\n",
        "for item in df_UP['Banda Larga']:\n",
        "  if item == 'Possui':\n",
        "    contEMUP = contEMUP + 1\n",
        "\n",
        "print('escolas com banda larga em ALAGOAS:', contEM)\n",
        "print('escolas com banda larga em UP:', contEMUP)"
      ],
      "metadata": {
        "colab": {
          "base_uri": "https://localhost:8080/"
        },
        "id": "6NRCElApI9dg",
        "outputId": "0bc7dc95-7445-4b1f-c535-6b4ad43267cd"
      },
      "execution_count": null,
      "outputs": [
        {
          "output_type": "stream",
          "name": "stdout",
          "text": [
            "escolas com banda larga em ALAGOAS: 1073\n",
            "escolas com banda larga em UP: 18\n"
          ]
        }
      ]
    },
    {
      "cell_type": "code",
      "source": [
        "#CONFERINDO QUE ESCOLAS TEM BANHEIRO COM CHUVEIRO\n",
        "contEM = 0\n",
        "for item in df_AL['Banheiro com Chuveiro']:\n",
        "  if item == 'Sim':\n",
        "    contEM = contEM + 1\n",
        "\n",
        "\n",
        "contEMUP = 0\n",
        "for item in df_UP['Banheiro com Chuveiro']:\n",
        "  if item == 'Sim':\n",
        "    contEMUP = contEMUP + 1\n",
        "\n",
        "print('escolas com banheiro com chuveiro em ALAGOAS:', contEM)\n",
        "print('escolas com banheiro com chuveiro em UP:', contEMUP)"
      ],
      "metadata": {
        "colab": {
          "base_uri": "https://localhost:8080/"
        },
        "id": "-MlDH_KbJvjG",
        "outputId": "cc60770e-58b4-415a-be30-7dec5e7a767e"
      },
      "execution_count": null,
      "outputs": [
        {
          "output_type": "stream",
          "name": "stdout",
          "text": [
            "escolas com banheiro com chuveiro em ALAGOAS: 814\n",
            "escolas com banheiro com chuveiro em UP: 14\n"
          ]
        }
      ]
    },
    {
      "cell_type": "code",
      "source": [
        "#CONFERINDO QUE ESCOLAS TEM COZINHA\n",
        "contEM = 0\n",
        "for item in df_AL['Cozinha']:\n",
        "  if item == 'Sim':\n",
        "    contEM = contEM + 1\n",
        "\n",
        "\n",
        "contEMUP = 0\n",
        "for item in df_UP['Cozinha']:\n",
        "  if item == 'Sim':\n",
        "    contEMUP = contEMUP + 1\n",
        "\n",
        "print('escolas com cozinha em ALAGOAS:', contEM)\n",
        "print('escolas com cozinha em UP:', contEMUP)"
      ],
      "metadata": {
        "colab": {
          "base_uri": "https://localhost:8080/"
        },
        "id": "mB1NF5_wKeq0",
        "outputId": "9b505a5e-8fd7-4e38-c0e8-1b9a98304318"
      },
      "execution_count": null,
      "outputs": [
        {
          "output_type": "stream",
          "name": "stdout",
          "text": [
            "escolas com cozinha em ALAGOAS: 3080\n",
            "escolas com cozinha em UP: 30\n"
          ]
        }
      ]
    },
    {
      "cell_type": "code",
      "source": [
        "#CONFERINDO QUE ESCOLAS ESTÃO EM ATIVIDADE\n",
        "contEM = 0\n",
        "for item in df_AL['Condição de Funcionamento']:\n",
        "  if item == 'Em Atividade':\n",
        "    contEM = contEM + 1\n",
        "\n",
        "\n",
        "contEMUP = 0\n",
        "for item in df_UP['Condição de Funcionamento']:\n",
        "  if item == 'Em Atividade':\n",
        "    contEMUP = contEMUP + 1\n",
        "\n",
        "print('escolas que estão em atividade em ALAGOAS:', contEM)\n",
        "print('escolas que estão em atividade em UP:', contEMUP)"
      ],
      "metadata": {
        "colab": {
          "base_uri": "https://localhost:8080/"
        },
        "id": "iQclxPOHK0ov",
        "outputId": "ad4ff52e-f56b-4abf-ec03-44ed7ff5fd2e"
      },
      "execution_count": null,
      "outputs": [
        {
          "output_type": "stream",
          "name": "stdout",
          "text": [
            "escolas que estão em atividade em ALAGOAS: 3338\n",
            "escolas que estão em atividade em UP: 32\n"
          ]
        }
      ]
    },
    {
      "cell_type": "code",
      "source": [
        "#CONFERINDO QUE ESCOLAS TEM Dependências e vias adequadas a alunos com deficiência ou mobilidade reduzida\n",
        "contEM = 0\n",
        "for item in df_AL['Dependências e vias adequadas a alunos com deficiência ou mobilidade reduzida']:\n",
        "  if item == 'Sim':\n",
        "    contEM = contEM + 1\n",
        "\n",
        "\n",
        "contEMUP = 0\n",
        "for item in df_UP['Dependências e vias adequadas a alunos com deficiência ou mobilidade reduzida']:\n",
        "  if item == 'Sim':\n",
        "    contEMUP = contEMUP + 1\n",
        "\n",
        "print('escolas com vias para PCD em ALAGOAS:', contEM)\n",
        "print('escolas com vias para PCD em UP:', contEMUP)"
      ],
      "metadata": {
        "colab": {
          "base_uri": "https://localhost:8080/"
        },
        "id": "F3VJLd06OBRv",
        "outputId": "abed1704-1664-4565-a788-afda5d2c1f0b"
      },
      "execution_count": null,
      "outputs": [
        {
          "output_type": "stream",
          "name": "stdout",
          "text": [
            "escolas com vias para PCD em ALAGOAS: 551\n",
            "escolas com vias para PCD em UP: 9\n"
          ]
        }
      ]
    },
    {
      "cell_type": "code",
      "source": [
        "#CONFERINDO QUE ESCOLAS TEM DESPENSA\n",
        "contEM = 0\n",
        "for item in df_AL['Despensa']:\n",
        "  if item == 'Sim':\n",
        "    contEM = contEM + 1\n",
        "\n",
        "\n",
        "contEMUP = 0\n",
        "for item in df_UP['Despensa']:\n",
        "  if item == 'Sim':\n",
        "    contEMUP = contEMUP + 1\n",
        "\n",
        "print('escolas com Despensa em ALAGOAS:', contEM)\n",
        "print('escolas com Despensa em UP:', contEMUP)"
      ],
      "metadata": {
        "colab": {
          "base_uri": "https://localhost:8080/"
        },
        "id": "wwSw5KQKTwBB",
        "outputId": "0f78ab1c-cfe0-4a3b-b785-31cc934a973e"
      },
      "execution_count": null,
      "outputs": [
        {
          "output_type": "stream",
          "name": "stdout",
          "text": [
            "escolas com Despensa em ALAGOAS: 1176\n",
            "escolas com Despensa em UP: 15\n"
          ]
        }
      ]
    },
    {
      "cell_type": "code",
      "source": [
        "#CONFERINDO QUE ESCOLAS TEM Mantenedora da Escola\n",
        "contEM = 0\n",
        "for item in df_AL['Mantenedora da Escola']:\n",
        "  if item == 'Sim':\n",
        "    contEM = contEM + 1\n",
        "\n",
        "\n",
        "contEMUP = 0\n",
        "for item in df_UP['Mantenedora da Escola']:\n",
        "  if item == 'Sim':\n",
        "    contEMUP = contEMUP + 1\n",
        "\n",
        "print('escolas com Mantenedora da Escola em ALAGOAS:', contEM)\n",
        "print('escolas com Mantenedora da Escola em UP:', contEMUP)"
      ],
      "metadata": {
        "colab": {
          "base_uri": "https://localhost:8080/"
        },
        "id": "VGSjo0DMPRM6",
        "outputId": "4d592f3e-3708-467e-e27a-b0bce865ec2a"
      },
      "execution_count": null,
      "outputs": [
        {
          "output_type": "stream",
          "name": "stdout",
          "text": [
            "escolas com Mantenedora da Escola em ALAGOAS: 472\n",
            "escolas com Mantenedora da Escola em UP: 3\n"
          ]
        }
      ]
    },
    {
      "cell_type": "code",
      "source": [
        "sorted(list(df_UP))"
      ],
      "metadata": {
        "colab": {
          "base_uri": "https://localhost:8080/"
        },
        "id": "SFmgCQdsLCoc",
        "outputId": "2fe699f0-34cb-4201-b745-4b54db3797d9"
      },
      "execution_count": null,
      "outputs": [
        {
          "output_type": "execute_result",
          "data": {
            "text/plain": [
              "['1ª a 4ª Série e Anos Iniciais',\n",
              " '5ª a 8ª Série e Anos Finais',\n",
              " 'Abastecimento de Energia Elétrica',\n",
              " 'Abastecimento de Água',\n",
              " 'Acessibilidade adequada a alunos com deficiência ou mobilidade reduzida',\n",
              " 'Alimentação Escolar para os alunos',\n",
              " 'Almoxarifado',\n",
              " 'Alojamento de Aluno ',\n",
              " 'Alojamento de Professor',\n",
              " 'Ano do Censo',\n",
              " 'Atendimento Educacional Especializado (AEE)',\n",
              " 'Atividade Complementar',\n",
              " 'Auditório',\n",
              " 'Bairro',\n",
              " 'Banda Larga',\n",
              " 'Banheiro com Chuveiro',\n",
              " 'Berçário',\n",
              " 'Biblioteca ',\n",
              " 'CEP',\n",
              " 'CNPJ  Escola Privada',\n",
              " 'CNPJ  Unidade Executora ',\n",
              " 'COD_MUNICIPIO',\n",
              " 'COD_MUNICIPIO12',\n",
              " 'CRECHE',\n",
              " 'Categoria Escola Privada',\n",
              " 'Complemento',\n",
              " 'Computadores',\n",
              " 'Condição de Funcionamento',\n",
              " 'Conveniada com o Poder Público',\n",
              " 'Cozinha',\n",
              " 'Código da Escola',\n",
              " 'DDD',\n",
              " 'Data Início Ano Letivo',\n",
              " 'Data Término  Ano Letivo',\n",
              " 'Dependência Administrativa',\n",
              " 'Dependência com o Poder Público',\n",
              " 'Dependências e vias adequadas a alunos com deficiência ou mobilidade reduzida',\n",
              " 'Despensa',\n",
              " 'Destinação do Lixo ',\n",
              " 'EJA - Presencial ',\n",
              " 'EJA - Presencial - Ensino Fundamental',\n",
              " 'EJA - Presencial - Ensino Médio',\n",
              " 'EJA - Semi Presencial ',\n",
              " 'EJA - Semi Presencial - Ensino Fundamental',\n",
              " 'EJA - Semi Presencial - Ensino Médio',\n",
              " 'EJA - TOTAL',\n",
              " 'EJA - TOTAL - Ensino Fundamental',\n",
              " 'EJA - TOTAL - Ensino Médio',\n",
              " 'EJA Presencial - Integrado a Educação Profissional de Nível Fundamental',\n",
              " 'EJA Presencial - Integrado a Educação Profissional de Nível Médio',\n",
              " 'EJA Semi Presencial - Integrado a Educação Profissional de Nível Fundamental',\n",
              " 'EJA Semi Presencial - Integrado a Educação Profissional de Nível Médio',\n",
              " 'E_MAIL',\n",
              " 'Educação Básica',\n",
              " 'Educação Especial - Classes Comuns',\n",
              " 'Educação Especial - Modalidade Substitutiva ',\n",
              " 'Educação Especial - Substitutiva - Classes Especiais',\n",
              " 'Educação Especial - Substitutiva - Escolas Exclusivas',\n",
              " 'Educação Especial - Substitutiva e Classes Comuns',\n",
              " 'Educação Indígena',\n",
              " 'Educação Infantil',\n",
              " 'Educação Profissional Concomitante',\n",
              " 'Educação Profissional Subsequente',\n",
              " 'Educação Profissional Total ',\n",
              " 'Endereço',\n",
              " 'Ensino Fundamental - Total ',\n",
              " 'Ensino Fundamental - com 8 anos ',\n",
              " 'Ensino Fundamental - com 9 anos ',\n",
              " 'Ensino Fundamental organizado em CICLOS',\n",
              " 'Ensino Médio',\n",
              " 'Ensino Médio - Ensino Médio ',\n",
              " 'Ensino Médio - Integrado',\n",
              " 'Ensino Médio - Normal / Magistério',\n",
              " 'Equipamentos existentes na escola',\n",
              " 'Escola abre aos finais de semana para a comunidade',\n",
              " 'Escola cede espaço para turmas do Programa Brasil Alfabetização',\n",
              " 'Escolas com Acessibilidade',\n",
              " 'Esgoto Sanitáio',\n",
              " 'FAX',\n",
              " 'Instituição sem fins lucrativos ',\n",
              " 'Internet',\n",
              " 'Laboratório de Ciências',\n",
              " 'Laboratório de Informática',\n",
              " 'Latitude',\n",
              " 'Lavanderia',\n",
              " 'Local de Funcionamento da Escola',\n",
              " 'Localização diferenciada da Escola',\n",
              " 'Loclização',\n",
              " 'Longitude',\n",
              " 'Língua Indígena',\n",
              " 'Língua Portuguesa',\n",
              " 'Mantenedora da Escola',\n",
              " 'Materiais didáticos específicos para atendimento à diversidade sócio-cultural  ',\n",
              " 'Modalidade de Ensino Oferecida pela Escola',\n",
              " 'Município',\n",
              " 'NOME DO DISTRITO',\n",
              " 'Nome da Escola',\n",
              " 'Número',\n",
              " 'Número de Funcionários',\n",
              " 'Número de Salas Existentes',\n",
              " 'Número de Salas Utilizadas',\n",
              " 'Outras Dependências',\n",
              " 'PRÉ-ESCOLA',\n",
              " 'Parque Infantil',\n",
              " 'Pátio Coberto',\n",
              " 'Pátio Descoberto',\n",
              " 'Quadra de Esportes Coberta',\n",
              " 'Quadra de Esportes Descoberta',\n",
              " 'Refeitório',\n",
              " 'Região',\n",
              " 'Regulamentação no Conselho ou Órgão Municipal, Estadual ou Federal de Educação',\n",
              " 'Sala de Atendimento Especial',\n",
              " 'Sala de Diretoria',\n",
              " 'Sala de Leitura',\n",
              " 'Sala de Professor',\n",
              " 'Sanitário Dentro do Predio',\n",
              " 'Sanitário Fora do Predio',\n",
              " 'Sanitário adequado a Educação Infantil',\n",
              " 'Sanitário adequado a alunos com deficiência ou mobilidade reduzida',\n",
              " 'Secretaria',\n",
              " 'TELEFONE',\n",
              " 'TELEFONE1',\n",
              " 'Unidade da Federação',\n",
              " 'co_uf',\n",
              " 'Água Filtrada',\n",
              " 'Área Verde']"
            ]
          },
          "metadata": {},
          "execution_count": 52
        }
      ]
    },
    {
      "cell_type": "code",
      "source": [],
      "metadata": {
        "id": "3yc0Q7AILFN5"
      },
      "execution_count": null,
      "outputs": []
    }
  ]
}